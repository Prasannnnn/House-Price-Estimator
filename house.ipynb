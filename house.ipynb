{
 "cells": [
  {
   "cell_type": "code",
   "execution_count": 10,
   "metadata": {},
   "outputs": [],
   "source": [
    "import pandas as pd\n",
    "import numpy as np\n",
    "from sklearn.model_selection import train_test_split\n",
    "from sklearn.ensemble import RandomForestRegressor\n",
    "from sklearn.metrics import mean_squared_error\n"
   ]
  },
  {
   "cell_type": "code",
   "execution_count": 3,
   "metadata": {},
   "outputs": [
    {
     "name": "stdout",
     "output_type": "stream",
     "text": [
      "Dataset Snapshot:\n",
      "   Size(SqFt)  Rooms     Price\n",
      "0       956.0    5.0  471112.0\n",
      "1       602.0    5.0  430879.0\n",
      "2      1626.0    3.0  130866.0\n",
      "3      1503.0    5.0  220031.0\n",
      "4      1414.0    4.0  135337.0\n"
     ]
    }
   ],
   "source": [
    "# Load dataset\n",
    "file_path = 'house_prices_custom.csv'  # Adjust the path if needed\n",
    "data = pd.read_csv(file_path)\n",
    "\n",
    "# Display initial rows\n",
    "print(\"Dataset Snapshot:\")\n",
    "print(data.head())\n"
   ]
  },
  {
   "cell_type": "code",
   "execution_count": 4,
   "metadata": {},
   "outputs": [
    {
     "name": "stdout",
     "output_type": "stream",
     "text": [
      "\n",
      "Dataset After Handling Missing Values:\n",
      "   Size(SqFt)  Rooms     Price\n",
      "0       956.0    5.0  471112.0\n",
      "1       602.0    5.0  430879.0\n",
      "2      1626.0    3.0  130866.0\n",
      "3      1503.0    5.0  220031.0\n",
      "4      1414.0    4.0  135337.0\n"
     ]
    }
   ],
   "source": [
    "# Handle missing values\n",
    "data['Size(SqFt)'] = data['Size(SqFt)'].fillna(data['Size(SqFt)'].mean())\n",
    "data['Rooms'] = data['Rooms'].fillna(data['Rooms'].median())\n",
    "data = data.dropna(subset=['Price'])  # Drop rows with missing target values\n",
    "\n",
    "print(\"\\nDataset After Handling Missing Values:\")\n",
    "print(data.head())\n"
   ]
  },
  {
   "cell_type": "code",
   "execution_count": 11,
   "metadata": {},
   "outputs": [
    {
     "name": "stdout",
     "output_type": "stream",
     "text": [
      "     Size(SqFt)  Rooms     Price\n",
      "0    956.000000    5.0  471112.0\n",
      "1    602.000000    5.0  430879.0\n",
      "2   1626.000000    3.0  130866.0\n",
      "3   1503.000000    5.0  220031.0\n",
      "4   1414.000000    4.0  135337.0\n",
      "5   1071.000000    5.0  116469.0\n",
      "6    919.000000    4.0  273239.0\n",
      "7   1637.452632    3.0  137149.0\n",
      "9   2918.000000    2.0  224782.0\n",
      "10  2228.000000    3.0  246002.0\n",
      "11   630.000000    4.0  450737.0\n",
      "12   622.000000    1.0  354496.0\n",
      "13   883.000000    1.0  212321.0\n",
      "14  1395.000000    1.0  382713.0\n",
      "16  2569.000000    2.0  479245.0\n",
      "17  2965.000000    4.0  399391.0\n",
      "18   608.000000    5.0  402100.0\n",
      "19  2798.000000    1.0  347815.0\n",
      "20  1637.452632    4.0  227400.0\n",
      "21  2732.000000    4.0  347974.0\n",
      "22  2218.000000    5.0  313416.0\n",
      "23  1402.000000    3.0  199829.0\n",
      "24  2339.000000    5.0  149453.0\n",
      "25  2913.000000    3.0  150819.0\n",
      "26  1639.000000    5.0  445496.0\n",
      "27   526.000000    1.0  325994.0\n",
      "28  1153.000000    1.0  285753.0\n",
      "29  2231.000000    5.0  322077.0\n",
      "31  1638.000000    3.0  344855.0\n",
      "32  1136.000000    1.0  482245.0\n",
      "33  1381.000000    3.0  128401.0\n",
      "34  1878.000000    4.0  453036.0\n",
      "35   918.000000    2.0  442598.0\n",
      "36   879.000000    4.0  438784.0\n",
      "37  2056.000000    1.0  151599.0\n",
      "38   896.000000    3.0  131778.0\n",
      "39  1970.000000    5.0  311089.0\n",
      "40  1908.000000    2.0  481793.0\n",
      "41  2972.000000    5.0  277892.0\n",
      "42  1583.000000    1.0  157288.0\n",
      "43   677.000000    3.0  230367.0\n",
      "44  2381.000000    5.0  200448.0\n",
      "45  2696.000000    5.0  199724.0\n",
      "46  1011.000000    2.0  381168.0\n",
      "47  2050.000000    2.0  335202.0\n",
      "48   822.000000    3.0  173495.0\n",
      "49  2761.000000    2.0  321187.0\n",
      "50  1700.000000    5.0  196200.0\n",
      "52  2864.000000    1.0  342550.0\n",
      "53  1287.000000    5.0  230970.0\n",
      "54   784.000000    3.0  139523.0\n",
      "55   687.000000    4.0  332328.0\n",
      "56  1433.000000    1.0  388528.0\n",
      "57  1685.000000    1.0  151332.0\n",
      "58   826.000000    3.0  126522.0\n",
      "59  1453.000000    3.0  441911.0\n",
      "60   913.000000    2.0  383423.0\n",
      "61  1637.452632    1.0  107737.0\n",
      "62  1638.000000    2.0  148896.0\n",
      "63  2357.000000    5.0  495085.0\n",
      "64  1637.452632    1.0  223930.0\n",
      "65  1166.000000    3.0  187194.0\n",
      "66  2016.000000    4.0  313078.0\n",
      "67  1637.452632    1.0  354615.0\n",
      "68  1358.000000    5.0  352370.0\n",
      "69  1593.000000    2.0  212065.0\n",
      "70   792.000000    2.0  310260.0\n",
      "71  2995.000000    4.0  130741.0\n",
      "72  1200.000000    5.0  186317.0\n",
      "73  2687.000000    2.0  298691.0\n",
      "74  1502.000000    3.0  101130.0\n",
      "75  1169.000000    5.0  304693.0\n",
      "76  2393.000000    3.0  239042.0\n",
      "77  2054.000000    4.0  338555.0\n",
      "78  1605.000000    2.0  249552.0\n",
      "79  2781.000000    5.0  321777.0\n",
      "80  1399.000000    2.0  465214.0\n",
      "81  1828.000000    3.0  482995.0\n",
      "82   729.000000    4.0  391382.0\n",
      "83  1438.000000    3.0  447011.0\n",
      "84   631.000000    4.0  476652.0\n",
      "85  1792.000000    5.0  355155.0\n",
      "87  1596.000000    1.0  199561.0\n",
      "88   771.000000    2.0  255560.0\n",
      "89  1364.000000    2.0  214137.0\n",
      "90  2823.000000    1.0  130662.0\n",
      "91  1788.000000    3.0  403657.0\n",
      "92  1370.000000    1.0  485738.0\n",
      "93  2544.000000    5.0  384266.0\n",
      "94  2120.000000    5.0  131959.0\n",
      "95  2379.000000    2.0  492154.0\n",
      "96  1085.000000    5.0  264419.0\n",
      "97  1584.000000    2.0  129971.0\n",
      "98  1071.000000    1.0  126289.0\n",
      "99  1510.000000    1.0  406277.0\n"
     ]
    }
   ],
   "source": [
    "print(data.to_string())"
   ]
  },
  {
   "cell_type": "code",
   "execution_count": 12,
   "metadata": {},
   "outputs": [
    {
     "name": "stdout",
     "output_type": "stream",
     "text": [
      "\n",
      "Training Features Snapshot:\n",
      "    Size(SqFt)  Rooms\n",
      "70       792.0    2.0\n",
      "17      2965.0    4.0\n",
      "82       729.0    4.0\n",
      "83      1438.0    3.0\n",
      "33      1381.0    3.0\n"
     ]
    }
   ],
   "source": [
    "# Features (X) and Target (y)\n",
    "X = data[['Size(SqFt)', 'Rooms']]  # Features\n",
    "y = data['Price']  # Target\n",
    "\n",
    "# Split into training and testing sets\n",
    "X_train, X_test, y_train, y_test = train_test_split(X, y, test_size=0.2, random_state=42)\n",
    "\n",
    "print(\"\\nTraining Features Snapshot:\")\n",
    "print(X_train.head())\n"
   ]
  },
  {
   "cell_type": "code",
   "execution_count": 13,
   "metadata": {},
   "outputs": [
    {
     "name": "stdout",
     "output_type": "stream",
     "text": [
      "\n",
      "Random Forest Model Trained Successfully!\n"
     ]
    }
   ],
   "source": [
    "# Initialize Random Forest Regressor\n",
    "model = RandomForestRegressor(n_estimators=100, random_state=42)\n",
    "\n",
    "# Fit the model to the training data\n",
    "model.fit(X_train, y_train)\n",
    "\n",
    "print(\"\\nRandom Forest Model Trained Successfully!\")\n"
   ]
  },
  {
   "cell_type": "code",
   "execution_count": 14,
   "metadata": {},
   "outputs": [
    {
     "name": "stdout",
     "output_type": "stream",
     "text": [
      "\n",
      "Predicted Prices:\n",
      "[277593.77       404434.39       296892.54       287623.18\n",
      " 248625.9        402130.26       282018.76       327312.21\n",
      " 448903.91       141733.78       421873.13       328232.16\n",
      " 416899.41       358766.         349440.77       299801.91\n",
      " 244603.952      144193.375      198417.80134921]\n",
      "\n",
      "Actual Prices:\n",
      "[186317. 149453. 239042. 338555. 471112. 285753. 230367. 199724. 450737.\n",
      " 173495. 214137. 441911. 355155. 196200. 212321. 135337. 227400. 344855.\n",
      " 157288.]\n"
     ]
    }
   ],
   "source": [
    "# Predict on test data\n",
    "predictions = model.predict(X_test)\n",
    "\n",
    "print(\"\\nPredicted Prices:\")\n",
    "print(predictions)\n",
    "\n",
    "print(\"\\nActual Prices:\")\n",
    "print(y_test.values)\n"
   ]
  },
  {
   "cell_type": "code",
   "execution_count": 15,
   "metadata": {},
   "outputs": [
    {
     "name": "stdout",
     "output_type": "stream",
     "text": [
      "\n",
      "Mean Squared Error (MSE): 17721617508.45\n"
     ]
    }
   ],
   "source": [
    "# Calculate Mean Squared Error\n",
    "mse = mean_squared_error(y_test, predictions)\n",
    "print(f\"\\nMean Squared Error (MSE): {mse:.2f}\")\n"
   ]
  },
  {
   "cell_type": "code",
   "execution_count": 17,
   "metadata": {},
   "outputs": [
    {
     "name": "stdout",
     "output_type": "stream",
     "text": [
      "\n",
      "Predicted Price for a 1500 SqFt house with 3 rooms: ₹172,756.62\n"
     ]
    },
    {
     "name": "stderr",
     "output_type": "stream",
     "text": [
      "c:\\Users\\ADMIN\\Desktop\\AIML Intern\\asdf\\Lib\\site-packages\\sklearn\\utils\\validation.py:2739: UserWarning: X does not have valid feature names, but RandomForestRegressor was fitted with feature names\n",
      "  warnings.warn(\n"
     ]
    }
   ],
   "source": [
    "# Test with a new house example\n",
    "new_data = [[10000, 3]]  # Example: 1500 SqFt, 3 Rooms\n",
    "new_prediction = model.predict(new_data)\n",
    "print(f\"\\nPredicted Price for a 1500 SqFt house with 3 rooms: ₹{new_prediction[0]:,.2f}\")\n"
   ]
  },
  {
   "cell_type": "code",
   "execution_count": null,
   "metadata": {},
   "outputs": [],
   "source": []
  }
 ],
 "metadata": {
  "kernelspec": {
   "display_name": "asdf",
   "language": "python",
   "name": "python3"
  },
  "language_info": {
   "codemirror_mode": {
    "name": "ipython",
    "version": 3
   },
   "file_extension": ".py",
   "mimetype": "text/x-python",
   "name": "python",
   "nbconvert_exporter": "python",
   "pygments_lexer": "ipython3",
   "version": "3.11.5"
  }
 },
 "nbformat": 4,
 "nbformat_minor": 2
}
